{
 "cells": [
  {
   "cell_type": "markdown",
   "metadata": {},
   "source": [
    "# Import Required Libraries\n",
    "Import the necessary libraries, including cv2, numpy, pymycobot, and time."
   ]
  },
  {
   "cell_type": "code",
   "execution_count": null,
   "metadata": {},
   "outputs": [],
   "source": [
    "# 필요한 라이브러리를 가져옵니다.\n",
    "import cv2\n",
    "import numpy as np\n",
    "from pymycobot.myagv import MyAgv\n",
    "import time"
   ]
  },
  {
   "cell_type": "markdown",
   "metadata": {},
   "source": [
    "# Define AGV and Camera Settings\n",
    "Create an AGV object and set up the camera settings, including frame width, height, and frame rate."
   ]
  },
  {
   "cell_type": "code",
   "execution_count": null,
   "metadata": {},
   "outputs": [],
   "source": [
    "# AGV와 카메라 설정 정의\n",
    "agv = MyAgv(port=\"/dev/ttyAMA2\", baudrate=115200) # AGV 객체 생성\n",
    "cap = cv2.VideoCapture(0) # 0번(AGV 정면) 카메라 사용\n",
    "\n",
    "# 카메라 설정\n",
    "cap.set(cv2.CAP_PROP_FRAME_WIDTH, 640) # 프레임 너비 640으로 설정\n",
    "cap.set(cv2.CAP_PROP_FRAME_HEIGHT, 480) # 프레임 높이 480으로 설정\n",
    "\n",
    "# 프레임 레이트 설정\n",
    "# 설정 이유는 레인 트레이싱을 위해 프레임을 1초에 10번만 받아오기 위함 (1초에 10프레임)\n",
    "# 라즈베리 파이 CPU가 화면을 감당을 못할수도 있다.\n",
    "frame_rate = 10\n",
    "prev = 0 # 이전 시간 초기화"
   ]
  },
  {
   "cell_type": "markdown",
   "metadata": {},
   "source": [
    "# Define Image Processing Function\n",
    "Define a function to process the image from the camera, convert it to HSV color space, apply a mask to extract the yellow lane, and find the center of the lane."
   ]
  },
  {
   "cell_type": "code",
   "execution_count": null,
   "metadata": {},
   "outputs": [],
   "source": [
    "# 이미지 처리 함수 정의\n",
    "def process_image(img):\n",
    "    height = img.shape[0] # 이미지 높이\n",
    "    width = img.shape[1] # 이미지 너비\n",
    "    roi = img[int(3*height/4):height, 0:width] # 관심 영역 설정 : 밑에서 1/4만큼의 영역\n",
    "    # HSV 색공간으로 변환\n",
    "    hsv = cv2.cvtColor(roi, cv2.COLOR_BGR2HSV) # BGR -> HSV\n",
    "    lower_yellow = np.array([28,125,98])\n",
    "    upper_yellow = np.array([42,255,239]) # 준수님께서 제공해 주신 HSV 범위\n",
    "    # 이진화, 이진화의 이유는 필요한 부분만 추출하기 위함\n",
    "    # 불필요한 정보로 인한 오류를 줄이며 계산 효율성을 높일 수 있음\n",
    "    mask = cv2.inRange(hsv, lower_yellow, upper_yellow) # HSV 이미지에서 노란색만 추출\n",
    "    mask = cv2.morphologyEx(mask, cv2.MORPH_OPEN, np.ones((5,5), np.uint8)) # 노이즈 제거\n",
    "    # 노란색 라인의 중심점을 찾기 위한 코드\n",
    "    M = cv2.moments(mask) # 노란색 라인의 중심점을 찾기 위한 코드\n",
    "    if M['m00'] > 0:\n",
    "        cx = int(M['m10']/M['m00']) # 노란색 라인의 중심점 x좌표\n",
    "        cy = int(M['m01']/M['m00']) # 노란색 라인의 중심점 y좌표\n",
    "        return (cx, cy), mask\n",
    "    return None, mask"
   ]
  },
  {
   "cell_type": "markdown",
   "metadata": {},
   "source": [
    "# Main Loop for Lane Tracing\n",
    "In the main loop, read the frame from the camera, process the image to find the center of the lane, and control the AGV to follow the lane."
   ]
  },
  {
   "cell_type": "code",
   "execution_count": null,
   "metadata": {},
   "outputs": [],
   "source": [
    "# 레인 트레이싱을 위한 메인 루프\n",
    "while True:\n",
    "    time_elapsed = time.time() - prev # 현재 시간 - 이전 시간\n",
    "    ret, frame = cap.read() # 프레임 읽기\n",
    "    if ret and time_elapsed > 1./frame_rate: # 프레임이 정상적으로 읽어지고, 시간이 1초/프레임레이트보다 크면\n",
    "        prev = time.time() # 이전 시간을 현재 시간으로 업데이트\n",
    "        center, process_image = process_image(frame) # 노란색 라인의 중심점과 이진화 이미지를 반환\n",
    "        if center:\n",
    "            cx,cy = center\n",
    "            img_center = frame.shape[1]//2 # 이미지의 중심점\n",
    "            if abs(cx-img_center) < 150:\n",
    "                agv.go_ahead(go_speed=20, timeout=0.1) # AGV 전진 (경험적인 속도)\n",
    "                print(\"Go Ahead\")\n",
    "            elif cx < img_center:\n",
    "                agv.counterclockwise_rotation(rotate_left_speed=20, timeout=0.2) # AGV 좌회전 (경험적인 속도)\n",
    "                print(\"Turn Left\")\n",
    "            else:\n",
    "                agv.clockwise_rotation(rotate_right_speed=20, timeout=0.2) # AGV 우회전 (경험적인 속도)\n",
    "                print(\"Turn Right\")\n",
    "            print(f\"Center: {cx}, {cy}, Image Center : {img_center}\")\n",
    "            if cv2.waitKey(1) & 0xFF == 27:\n",
    "                break\n",
    "\n",
    "agv.stop()\n",
    "cap.release() \n",
    "cv2.destroyAllWindows()"
   ]
  }
 ],
 "metadata": {
  "kernelspec": {
   "display_name": "Python 3",
   "language": "python",
   "name": "python3"
  },
  "language_info": {
   "name": "python",
   "version": "3.10.11"
  },
  "orig_nbformat": 4
 },
 "nbformat": 4,
 "nbformat_minor": 2
}
