{
 "cells": [
  {
   "cell_type": "markdown",
   "metadata": {},
   "source": [
    "# Aruco Marker를 사용해보자"
   ]
  },
  {
   "cell_type": "markdown",
   "metadata": {},
   "source": [
    "### 종속성 설치 (OpenCV Contrib for Python)"
   ]
  },
  {
   "cell_type": "code",
   "execution_count": null,
   "metadata": {},
   "outputs": [],
   "source": [
    "% pip3 install opencv-contrib-python"
   ]
  },
  {
   "cell_type": "markdown",
   "metadata": {},
   "source": [
    "### 아루고 마커 생성"
   ]
  },
  {
   "cell_type": "code",
   "execution_count": 1,
   "metadata": {},
   "outputs": [],
   "source": [
    "import cv2\n",
    "import cv2.aruco as aruco\n",
    "import numpy as np\n"
   ]
  },
  {
   "cell_type": "markdown",
   "metadata": {},
   "source": [
    "##### DICT\n",
    "- DICT_4X4_50는 4x4 크기의 마커로, 0부터 49까지의 50개 ID를 지원합니다.\n",
    "- DICT_6X6_250는 6x6 크기의 마커로, 0부터 249까지의 250개 ID를 지원합니다.\n",
    "- DICT_7X7_1000는 7x7 크기의 마커로, 0부터 999까지의 1000개 ID를 지원합니다.\n",
    "\n",
    "##### Size\n",
    "- 카메라와의 거리를 고려하여 마커 크기 생성\n",
    "- 사용하는 카메라의 해상도 또한 고려대상"
   ]
  },
  {
   "cell_type": "code",
   "execution_count": 7,
   "metadata": {},
   "outputs": [],
   "source": [
    "# 아루코 마커를 생성하기 위한 사전 설정\n",
    "board_type=cv2.aruco.DICT_6X6_250;\n",
    "MARKER_SIZE = 200;\n",
    "id_info = 1;"
   ]
  },
  {
   "cell_type": "code",
   "execution_count": 2,
   "metadata": {},
   "outputs": [],
   "source": [
    "board_type=cv2.aruco.DICT_6X6_250\n",
    "MARKER_SIZE = 400\n",
    "id_info = 1"
   ]
  },
  {
   "cell_type": "code",
   "execution_count": 3,
   "metadata": {},
   "outputs": [],
   "source": [
    "# 마커 생성\n",
    "arucoDict = cv2.aruco.getPredefinedDictionary(board_type)\n",
    "aruco_matker_img = cv2.aruco.generateImageMarker(arucoDict , id_info , MARKER_SIZE)"
   ]
  },
  {
   "cell_type": "code",
   "execution_count": 4,
   "metadata": {},
   "outputs": [],
   "source": [
    "cv2.imshow(\"aruco_matker_img\",aruco_matker_img);\n",
    "cv2.waitKey(0);"
   ]
  },
  {
   "cell_type": "code",
   "execution_count": 5,
   "metadata": {},
   "outputs": [
    {
     "ename": "",
     "evalue": "",
     "output_type": "error",
     "traceback": [
      "\u001b[1;31m현재 셀 또는 이전 셀에서 코드를 실행하는 동안 Kernel이 충돌했습니다. \n",
      "\u001b[1;31m셀의 코드를 검토하여 가능한 오류 원인을 식별하세요. \n",
      "\u001b[1;31m자세한 내용을 보려면 <a href='https://aka.ms/vscodeJupyterKernelCrash'>여기</a>를 클릭하세요. \n",
      "\u001b[1;31m자세한 내용은 Jupyter <a href='command:jupyter.viewOutput'>로그</a>를 참조하세요."
     ]
    }
   ],
   "source": [
    "# 생성된 마커를 파일로 저장\n",
    "cv2.imwrite(\"aruco_matker_img.jpg\",aruco_matker_img);"
   ]
  }
 ],
 "metadata": {
  "kernelspec": {
   "display_name": "Python 3",
   "language": "python",
   "name": "python3"
  },
  "language_info": {
   "codemirror_mode": {
    "name": "ipython",
    "version": 3
   },
   "file_extension": ".py",
   "mimetype": "text/x-python",
   "name": "python",
   "nbconvert_exporter": "python",
   "pygments_lexer": "ipython3",
   "version": "3.10.11"
  }
 },
 "nbformat": 4,
 "nbformat_minor": 2
}
