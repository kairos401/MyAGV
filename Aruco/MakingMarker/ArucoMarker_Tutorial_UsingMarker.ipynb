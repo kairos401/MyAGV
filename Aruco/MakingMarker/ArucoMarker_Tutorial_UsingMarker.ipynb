{
 "cells": [
  {
   "cell_type": "markdown",
   "metadata": {},
   "source": [
    "# 만들어진 아루코 마커를 사용해보자"
   ]
  },
  {
   "cell_type": "code",
   "execution_count": 1,
   "metadata": {},
   "outputs": [],
   "source": [
    "### 아루코 마커 검출"
   ]
  },
  {
   "cell_type": "code",
   "execution_count": 2,
   "metadata": {},
   "outputs": [],
   "source": [
    "import cv2\n",
    "import numpy as np\n",
    "import time"
   ]
  },
  {
   "cell_type": "code",
   "execution_count": 3,
   "metadata": {},
   "outputs": [],
   "source": [
    "# 카메라 생성 및 카메라, 렌즈 파라메터 정의\n",
    "cam = cv2.VideoCapture(0)  # 0은 기본 웹캠을 의미합니다.\n",
    "\n",
    "# aruco detector 생성\n",
    "board_type=cv2.aruco.DICT_6X6_250\n",
    "marker_size = 400\n",
    "\n",
    "arucoDict  = cv2.aruco.getPredefinedDictionary(board_type);\n",
    "parameters = cv2.aruco.DetectorParameters()\n",
    "detector   = cv2.aruco.ArucoDetector(arucoDict, parameters);"
   ]
  },
  {
   "cell_type": "code",
   "execution_count": 4,
   "metadata": {},
   "outputs": [],
   "source": [
    "# 마커사이즈 실제 사이즈와 공간 좌표(x,y,z) -> z가 0인 이유는 마커가 평면이기 때문이다.\n",
    "marker_3d_edges = np.array([    [0,0,0],\n",
    "                                [0,marker_size,0],\n",
    "                                [marker_size,marker_size,0],\n",
    "                                [marker_size,0,0]], dtype = 'float32').reshape((4,1,3))\n"
   ]
  },
  {
   "cell_type": "code",
   "execution_count": 5,
   "metadata": {},
   "outputs": [],
   "source": [
    "while True:\n",
    "    # 웹캠으로부터 촬영 이미지 가져오기\n",
    "    ret, img = cam.read()\n",
    "\n",
    "    # 파란색상 정의\n",
    "    blue_BGR = (255, 0, 0)\n",
    "\n",
    "    if ret:\n",
    "        # 마커(marker) 검출\n",
    "        corners, ids, _ = cv2.aruco.detectMarkers(img, arucoDict, parameters=parameters)\n",
    "\n",
    "        # 검출된 마커들의 꼭지점을 이미지에 그려 확인\n",
    "        if corners:\n",
    "            cv2.aruco.drawDetectedMarkers(img, corners, ids)\n",
    "\n",
    "        cv2.imshow(\"img\", img)\n",
    "\n",
    "        # 'q' 키를 누르면 종료\n",
    "        if cv2.waitKey(1) & 0xFF == ord('q'):\n",
    "            break\n",
    "\n",
    "cam.release()\n",
    "cv2.destroyAllWindows()"
   ]
  },
  {
   "cell_type": "markdown",
   "metadata": {},
   "source": [
    "### 카메라 왜곡(추정값)을 이용한 좌표 시각화\n",
    "##### 실제 왜곡값은 카메라 캘리브레이션을 이용해서 추출 가능(아마도?)"
   ]
  },
  {
   "cell_type": "code",
   "execution_count": 4,
   "metadata": {},
   "outputs": [],
   "source": [
    "import cv2\n",
    "import numpy as np\n",
    "\n",
    "# 카메라 생성\n",
    "cam = cv2.VideoCapture(0)  # 0은 기본 웹캠을 의미합니다.\n",
    "\n",
    "# 카메라 행렬과 왜곡 계수 추정\n",
    "ret, img = cam.read()\n",
    "height, width, _ = img.shape\n",
    "cmtx = [[width, 0, width/2], [0, width, height/2], [0, 0, 1]]\n",
    "dist = [0, 0, 0, 0, 0]\n",
    "\n",
    "# aruco detector 생성\n",
    "board_type = cv2.aruco.DICT_6X6_250\n",
    "arucoDict  = cv2.aruco.getPredefinedDictionary(board_type)\n",
    "parameters = cv2.aruco.DetectorParameters()\n",
    "\n",
    "# 마커사이즈 실제 사이즈와 공간 좌표(x,y,z) -> z가 0인 이유는 마커가 평면이기 때문이다.\n",
    "marker_size = 200\n",
    "marker_3d_edges = np.array([    [0,0,0],\n",
    "                                [0,marker_size,0],\n",
    "                                [marker_size,marker_size,0],\n",
    "                                [marker_size,0,0]], dtype = 'float32').reshape((4,1,3))\n",
    "\n",
    "while True:\n",
    "    # 웹캠으로부터 촬영 이미지 가져오기\n",
    "    ret, img = cam.read()\n",
    "\n",
    "    # 파란색상 정의\n",
    "    blue_BGR = (255, 0, 0)\n",
    "\n",
    "    if ret:\n",
    "        # 마커(marker) 검출\n",
    "        corners, ids, _ = cv2.aruco.detectMarkers(img, arucoDict, parameters=parameters)\n",
    "\n",
    "        # 검출된 마커들의 외곽선을 이미지에 그림\n",
    "        if corners:\n",
    "            cv2.aruco.drawDetectedMarkers(img, corners, ids)\n",
    "\n",
    "            # PnP\n",
    "            for corner in corners:\n",
    "                ret, rvec, tvec = cv2.solvePnP(marker_3d_edges, corner, np.array(cmtx), np.array(dist))\n",
    "                if ret:\n",
    "                    x = round(tvec[0][0], 2)\n",
    "                    y = round(tvec[1][0], 2)\n",
    "                    z = round(tvec[2][0], 2)\n",
    "                    rx = round(np.rad2deg(rvec[0][0]), 2)\n",
    "                    ry = round(np.rad2deg(rvec[1][0]), 2)\n",
    "                    rz = round(np.rad2deg(rvec[2][0]), 2)\n",
    "                    # PnP 결과를 이미지에 그려 확인\n",
    "                    text1 = f\"{x},{y},{z}\"\n",
    "                    text2 = f\"{rx},{ry},{rz}\"\n",
    "                    cv2.putText(img, text1, (int(corner[0][0][0]-10), int(corner[0][0][1]+10)), cv2.FONT_HERSHEY_PLAIN, 2.0, (0, 255, 0), 2)\n",
    "                    cv2.putText(img, text2, (int(corner[0][0][0]-10), int(corner[0][0][1]+40)), cv2.FONT_HERSHEY_PLAIN, 2.0, (0, 255, 0), 2)\n",
    "\n",
    "        cv2.imshow(\"img\", img)\n",
    "\n",
    "        # 'q' 키를 누르면 종료\n",
    "        if cv2.waitKey(1) & 0xFF == ord('q'):\n",
    "            break\n",
    "\n",
    "cam.release()\n",
    "cv2.destroyAllWindows()\n"
   ]
  },
  {
   "cell_type": "markdown",
   "metadata": {},
   "source": [
    "### 아루코 마커를 이용한 거리 계산 코드"
   ]
  },
  {
   "cell_type": "code",
   "execution_count": 7,
   "metadata": {},
   "outputs": [],
   "source": [
    "import cv2\n",
    "import numpy as np\n",
    "\n",
    "# 카메라 생성\n",
    "cam = cv2.VideoCapture(0)  # 0은 기본 웹캠을 의미합니다.\n",
    "\n",
    "# 카메라 행렬과 왜곡 계수 추정\n",
    "ret, img = cam.read()\n",
    "height, width, _ = img.shape\n",
    "cmtx = [[width, 0, width/2], [0, width, height/2], [0, 0, 1]]\n",
    "dist = [0, 0, 0, 0, 0]\n",
    "\n",
    "# aruco detector 생성\n",
    "board_type = cv2.aruco.DICT_6X6_250\n",
    "arucoDict  = cv2.aruco.getPredefinedDictionary(board_type)\n",
    "parameters = cv2.aruco.DetectorParameters()\n",
    "\n",
    "# 마커사이즈 실제 사이즈와 공간 좌표(x,y,z) -> z가 0인 이유는 마커가 평면이기 때문이다.\n",
    "marker_size = 200\n",
    "marker_3d_edges = np.array([    [0,0,0],\n",
    "                                [0,marker_size,0],\n",
    "                                [marker_size,marker_size,0],\n",
    "                                [marker_size,0,0]], dtype = 'float32').reshape((4,1,3))\n",
    "\n",
    "while True:\n",
    "    # 웹캠으로부터 촬영 이미지 가져오기\n",
    "    ret, img = cam.read()\n",
    "\n",
    "    if ret:\n",
    "        # 마커(marker) 검출\n",
    "        corners, ids, _ = cv2.aruco.detectMarkers(img, arucoDict, parameters=parameters)\n",
    "\n",
    "        # 검출된 마커들의 외곽선을 이미지에 그림\n",
    "        if corners:\n",
    "            cv2.aruco.drawDetectedMarkers(img, corners, ids)\n",
    "\n",
    "            # PnP\n",
    "            for corner in corners:\n",
    "                ret, rvec, tvec = cv2.solvePnP(marker_3d_edges, corner, np.array(cmtx), np.array(dist))\n",
    "                if ret:\n",
    "                    # 거리 정보를 계산\n",
    "                    distance = np.sqrt(tvec[0][0]**2 + tvec[1][0]**2 + tvec[2][0]**2)\n",
    "                    distance = round(distance, 2)\n",
    "                    # 거리 정보를 이미지에 그려 확인\n",
    "                    text = f\"Distance: {distance/100:.1f} cm\"\n",
    "                    cv2.putText(img, text, (int(np.mean(corner[:, 0, 0])), int(np.mean(corner[:, 0, 1]))), cv2.FONT_HERSHEY_PLAIN, 2.0, (0, 255, 0), 2)\n",
    "\n",
    "        cv2.imshow(\"img\", img)\n",
    "\n",
    "        # 'q' 키를 누르면 종료\n",
    "        if cv2.waitKey(1) & 0xFF == ord('q'):\n",
    "            break\n",
    "\n",
    "cam.release()\n",
    "cv2.destroyAllWindows()\n"
   ]
  }
 ],
 "metadata": {
  "kernelspec": {
   "display_name": "Python 3",
   "language": "python",
   "name": "python3"
  },
  "language_info": {
   "codemirror_mode": {
    "name": "ipython",
    "version": 3
   },
   "file_extension": ".py",
   "mimetype": "text/x-python",
   "name": "python",
   "nbconvert_exporter": "python",
   "pygments_lexer": "ipython3",
   "version": "3.10.11"
  }
 },
 "nbformat": 4,
 "nbformat_minor": 2
}
